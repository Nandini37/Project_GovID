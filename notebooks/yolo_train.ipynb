{
 "cells": [
  {
   "cell_type": "code",
   "execution_count": 1,
   "metadata": {},
   "outputs": [],
   "source": [
    "from ultralytics import YOLO"
   ]
  },
  {
   "cell_type": "code",
   "execution_count": 5,
   "metadata": {},
   "outputs": [
    {
     "name": "stdout",
     "output_type": "stream",
     "text": [
      "Downloading https://github.com/ultralytics/assets/releases/download/v8.2.0/yolov8n.pt to 'yolov8n.pt'..."
     ]
    },
    {
     "name": "stderr",
     "output_type": "stream",
     "text": [
      "\n",
      "  0%|          | 0.00/6.25M [00:00<?, ?B/s]\n",
      " 28%|██▊       | 1.75M/6.25M [00:00<00:00, 17.7MB/s]\n",
      " 56%|█████▌    | 3.50M/6.25M [00:00<00:00, 6.85MB/s]\n",
      " 72%|███████▏  | 4.50M/6.25M [00:00<00:00, 6.26MB/s]\n",
      " 86%|████████▌ | 5.38M/6.25M [00:00<00:00, 6.57MB/s]\n",
      "100%|██████████| 6.25M/6.25M [00:00<00:00, 7.32MB/s]\n",
      "\n",
      "  0%|          | 0.00/104k [00:00<?, ?B/s]\n",
      "100%|██████████| 104k/104k [00:00<00:00, 3.00MB/s]\n"
     ]
    },
    {
     "name": "stdout",
     "output_type": "stream",
     "text": [
      "\n",
      "Ultralytics YOLOv8.2.95 🚀 Python-3.9.16 torch-2.4.1+cpu CPU (AMD Ryzen 5 4600H with Radeon Graphics)\n",
      "YOLOv8n summary (fused): 168 layers, 3,151,904 parameters, 0 gradients, 8.7 GFLOPs\n",
      "\n",
      "Downloading https://media.roboflow.com/notebooks/examples/dog.jpeg to 'dog.jpeg'...\n",
      "image 1/1 d:\\Github\\Project_GovID\\notebooks\\dog.jpeg: 640x384 1 person, 1 car, 1 dog, 862.5ms\n",
      "Speed: 263.1ms preprocess, 862.5ms inference, 394.6ms postprocess per image at shape (1, 3, 640, 384)\n",
      "Results saved to \u001b[1md:\\Github\\Project_GovID\\runs\\detect\\predict\u001b[0m\n",
      "💡 Learn more at https://docs.ultralytics.com/modes/predict\n"
     ]
    }
   ],
   "source": [
    "!yolo task=detect mode=predict model=yolov8n.pt conf=0.25 source='https://media.roboflow.com/notebooks/examples/dog.jpeg' save=True"
   ]
  },
  {
   "cell_type": "code",
   "execution_count": 6,
   "metadata": {},
   "outputs": [
    {
     "name": "stdout",
     "output_type": "stream",
     "text": [
      "Collecting scikit-learn\n",
      "  Downloading scikit_learn-1.5.2-cp39-cp39-win_amd64.whl (11.0 MB)\n",
      "     ---------------------------------------- 11.0/11.0 MB 5.1 MB/s eta 0:00:00\n",
      "Requirement already satisfied: numpy>=1.19.5 in d:\\github\\project_govid\\.venv\\lib\\site-packages (from scikit-learn) (1.26.4)\n",
      "Requirement already satisfied: scipy>=1.6.0 in d:\\github\\project_govid\\.venv\\lib\\site-packages (from scikit-learn) (1.13.1)\n",
      "Collecting threadpoolctl>=3.1.0\n",
      "  Downloading threadpoolctl-3.5.0-py3-none-any.whl (18 kB)\n",
      "Collecting joblib>=1.2.0\n",
      "  Downloading joblib-1.4.2-py3-none-any.whl (301 kB)\n",
      "     -------------------------------------- 301.8/301.8 KB 6.3 MB/s eta 0:00:00\n",
      "Installing collected packages: threadpoolctl, joblib, scikit-learn\n",
      "Successfully installed joblib-1.4.2 scikit-learn-1.5.2 threadpoolctl-3.5.0\n",
      "Note: you may need to restart the kernel to use updated packages.\n"
     ]
    }
   ],
   "source": [
    "%pip install scikit-learn"
   ]
  },
  {
   "cell_type": "code",
   "execution_count": 7,
   "metadata": {},
   "outputs": [],
   "source": [
    "from sklearn.model_selection import train_test_split"
   ]
  },
  {
   "cell_type": "code",
   "execution_count": 4,
   "metadata": {},
   "outputs": [
    {
     "name": "stderr",
     "output_type": "stream",
     "text": [
      "Traceback (most recent call last):\n",
      "  File \"C:\\Anaconda\\envs\\streamlit\\lib\\runpy.py\", line 197, in _run_module_as_main\n",
      "    return _run_code(code, main_globals, None,\n",
      "  File \"C:\\Anaconda\\envs\\streamlit\\lib\\runpy.py\", line 87, in _run_code\n",
      "    exec(code, run_globals)\n",
      "  File \"d:\\Github\\Project_GovID\\.venv\\Scripts\\yolo.exe\\__main__.py\", line 7, in <module>\n",
      "    sys.exit(entrypoint())\n",
      "  File \"D:\\Github\\Project_GovID\\.venv\\lib\\site-packages\\ultralytics\\cfg\\__init__.py\", line 803, in entrypoint\n",
      "    model = YOLO(model, task=task)\n",
      "  File \"D:\\Github\\Project_GovID\\.venv\\lib\\site-packages\\ultralytics\\models\\yolo\\model.py\", line 23, in __init__\n",
      "    super().__init__(model=model, task=task, verbose=verbose)\n",
      "  File \"D:\\Github\\Project_GovID\\.venv\\lib\\site-packages\\ultralytics\\engine\\model.py\", line 145, in __init__\n",
      "    self._load(model, task=task)\n",
      "  File \"D:\\Github\\Project_GovID\\.venv\\lib\\site-packages\\ultralytics\\engine\\model.py\", line 297, in _load\n",
      "    self.model, self.ckpt = attempt_load_one_weight(weights)\n",
      "  File \"D:\\Github\\Project_GovID\\.venv\\lib\\site-packages\\ultralytics\\nn\\tasks.py\", line 906, in attempt_load_one_weight\n",
      "    ckpt, weight = torch_safe_load(weight)  # load ckpt\n",
      "  File \"D:\\Github\\Project_GovID\\.venv\\lib\\site-packages\\ultralytics\\nn\\tasks.py\", line 833, in torch_safe_load\n",
      "    ckpt = torch.load(file, map_location=\"cpu\")\n",
      "  File \"D:\\Github\\Project_GovID\\.venv\\lib\\site-packages\\ultralytics\\utils\\patches.py\", line 86, in torch_load\n",
      "    return _torch_load(*args, **kwargs)\n",
      "  File \"D:\\Github\\Project_GovID\\.venv\\lib\\site-packages\\torch\\serialization.py\", line 1065, in load\n",
      "    with _open_file_like(f, 'rb') as opened_file:\n",
      "  File \"D:\\Github\\Project_GovID\\.venv\\lib\\site-packages\\torch\\serialization.py\", line 468, in _open_file_like\n",
      "    return _open_file(name_or_buffer, mode)\n",
      "  File \"D:\\Github\\Project_GovID\\.venv\\lib\\site-packages\\torch\\serialization.py\", line 449, in __init__\n",
      "    super().__init__(open(name, mode))\n",
      "FileNotFoundError: [Errno 2] No such file or directory: 'yolo11n-seg.pt'\n"
     ]
    }
   ],
   "source": [
    "!yolo predict model=yolo11n-seg.pt source='https://youtu.be/LNwODJXcvt4' imgsz=320"
   ]
  },
  {
   "cell_type": "code",
   "execution_count": 11,
   "metadata": {},
   "outputs": [],
   "source": [
    "IMAGES_PATH = \"../static/aadhar/images\"\n",
    "LABELS_PATH = \"../static/aadhar/labels\"\n",
    "NOTES_PATH = \"../static/aadhar/notes.json\""
   ]
  },
  {
   "cell_type": "code",
   "execution_count": 9,
   "metadata": {},
   "outputs": [],
   "source": [
    "import os"
   ]
  },
  {
   "cell_type": "code",
   "execution_count": 12,
   "metadata": {},
   "outputs": [
    {
     "name": "stdout",
     "output_type": "stream",
     "text": [
      "train: 29; valid: 4; test: 2\n"
     ]
    }
   ],
   "source": [
    "labels = os.listdir(LABELS_PATH)\n",
    "\n",
    "\n",
    "\n",
    "# Split data\n",
    "train, test = train_test_split(labels, test_size=0.15, shuffle=True)\n",
    "valid, test = train_test_split(test, test_size=0.2)\n",
    "\n",
    "print(f\"train: {len(train)}; valid: {len(valid)}; test: {len(test)}\")"
   ]
  },
  {
   "cell_type": "code",
   "execution_count": 14,
   "metadata": {},
   "outputs": [],
   "source": [
    "prefix = \"../static/aadhar\""
   ]
  },
  {
   "cell_type": "code",
   "execution_count": null,
   "metadata": {},
   "outputs": [],
   "source": []
  },
  {
   "cell_type": "code",
   "execution_count": 15,
   "metadata": {},
   "outputs": [],
   "source": [
    "os.makedirs(f\"{prefix}/test/images\")\n",
    "os.makedirs(f\"{prefix}/test/labels\")\n",
    "os.makedirs(f\"{prefix}/train/images\")\n",
    "os.makedirs(f\"{prefix}/train/labels\")\n",
    "os.makedirs(f\"{prefix}/valid/images\")\n",
    "os.makedirs(f\"{prefix}/valid/labels\")"
   ]
  },
  {
   "cell_type": "code",
   "execution_count": 16,
   "metadata": {},
   "outputs": [],
   "source": [
    "import shutil"
   ]
  },
  {
   "cell_type": "code",
   "execution_count": 20,
   "metadata": {},
   "outputs": [
    {
     "name": "stdout",
     "output_type": "stream",
     "text": [
      "30.png , -> 30.txt\n",
      "../static/aadhar/train/images/30.png\n",
      "9.png , -> 9.txt\n",
      "../static/aadhar/train/images/9.png\n",
      "11.png , -> 11.txt\n",
      "../static/aadhar/train/images/11.png\n",
      "7.png , -> 7.txt\n",
      "../static/aadhar/train/images/7.png\n",
      "24.png , -> 24.txt\n",
      "../static/aadhar/train/images/24.png\n",
      "23.png , -> 23.txt\n",
      "../static/aadhar/train/images/23.png\n",
      "13.png , -> 13.txt\n",
      "../static/aadhar/train/images/13.png\n",
      "25.png , -> 25.txt\n",
      "../static/aadhar/train/images/25.png\n",
      "12.png , -> 12.txt\n",
      "../static/aadhar/train/images/12.png\n",
      "21.png , -> 21.txt\n",
      "../static/aadhar/train/images/21.png\n",
      "31.png , -> 31.txt\n",
      "../static/aadhar/train/images/31.png\n",
      "14.png , -> 14.txt\n",
      "../static/aadhar/train/images/14.png\n",
      "16.png , -> 16.txt\n",
      "../static/aadhar/train/images/16.png\n",
      "15.png , -> 15.txt\n",
      "../static/aadhar/train/images/15.png\n",
      "22.png , -> 22.txt\n",
      "../static/aadhar/train/images/22.png\n",
      "28.png , -> 28.txt\n",
      "../static/aadhar/train/images/28.png\n",
      "18.png , -> 18.txt\n",
      "../static/aadhar/train/images/18.png\n",
      "29.png , -> 29.txt\n",
      "../static/aadhar/train/images/29.png\n",
      "19.png , -> 19.txt\n",
      "../static/aadhar/train/images/19.png\n",
      "3.png , -> 3.txt\n",
      "../static/aadhar/train/images/3.png\n",
      "20.png , -> 20.txt\n",
      "../static/aadhar/train/images/20.png\n",
      "5.png , -> 5.txt\n",
      "../static/aadhar/train/images/5.png\n",
      "26.png , -> 26.txt\n",
      "../static/aadhar/train/images/26.png\n",
      "4.png , -> 4.txt\n",
      "../static/aadhar/train/images/4.png\n",
      "10.png , -> 10.txt\n",
      "../static/aadhar/train/images/10.png\n",
      "25\n",
      "6.png , -> 6.txt\n",
      "../static/aadhar/test/images/6.png\n",
      "2.png , -> 2.txt\n",
      "../static/aadhar/test/images/2.png\n",
      "2\n",
      "8.png , -> 8.txt\n",
      "../static/aadhar/valid/images/8.png\n",
      "17.png , -> 17.txt\n",
      "../static/aadhar/valid/images/17.png\n",
      "27.png , -> 27.txt\n",
      "../static/aadhar/valid/images/27.png\n",
      "1.png , -> 1.txt\n",
      "../static/aadhar/valid/images/1.png\n",
      "4\n"
     ]
    }
   ],
   "source": [
    "def move_files_to_dir(files, dirname):\n",
    "    ct = 0\n",
    "    for label_filename in files:\n",
    "        image_filename = f\"{label_filename[:-4]}.png\"\n",
    "        if os.path.exists(f\"{IMAGES_PATH}/{image_filename}\"):\n",
    "            print(f\"{image_filename} , -> {label_filename}\")\n",
    "            ct = ct +1\n",
    "            print(f\"{dirname}/images/{image_filename}\")\n",
    "                  \n",
    "            shutil.copy(f\"{IMAGES_PATH}/{image_filename}\", f\"{dirname}/images/{image_filename}\")\n",
    "            shutil.copy(f\"{LABELS_PATH}/{label_filename}\", f\"{dirname}/labels/{label_filename}\")\n",
    "    print(ct)\n",
    "\n",
    "# Move splits to folders\n",
    "move_files_to_dir(train, \"../static/aadhar/train\")\n",
    "move_files_to_dir(test, \"../static/aadhar/test\")\n",
    "move_files_to_dir(valid, \"../static/aadhar/valid\")"
   ]
  },
  {
   "cell_type": "code",
   "execution_count": null,
   "metadata": {},
   "outputs": [],
   "source": []
  },
  {
   "cell_type": "code",
   "execution_count": 21,
   "metadata": {},
   "outputs": [
    {
     "name": "stdout",
     "output_type": "stream",
     "text": [
      "train: ../static/aadhar/train/images\n",
      "test: ../static/aadhar/test/images\n",
      "val: ../static/aadhar/valid/images\n",
      "\n",
      "nc: 6\n",
      "names: ['name_value', 'gender_value', 'dob_key', 'dob_value', 'adhar_number_value', 'name_key']\n"
     ]
    }
   ],
   "source": [
    "import json\n",
    "\n",
    "descr_darknet = json.load(open(NOTES_PATH))\n",
    "\n",
    "train_path = \"../static/aadhar/train/images\"\n",
    "test_path = \"../static/aadhar/test/images\"\n",
    "valid_path = \"../static/aadhar/valid/images\"\n",
    "\n",
    "nc = len(descr_darknet[\"categories\"])\n",
    "names = [category[\"name\"] for category in descr_darknet[\"categories\"]]\n",
    "\n",
    "print(\n",
    "    f\"train: {train_path}\\n\"\n",
    "    f\"test: {test_path}\\n\"\n",
    "    f\"val: {valid_path}\\n\\n\"\n",
    "    f\"nc: {nc}\\n\"\n",
    "    f\"names: {names}\",\n",
    ")"
   ]
  },
  {
   "cell_type": "code",
   "execution_count": 22,
   "metadata": {},
   "outputs": [],
   "source": [
    "import yaml\n",
    "\n",
    "with open(\"../data.yaml\", \"w\") as file:\n",
    "    yaml.dump({\n",
    "        \"train\": train_path,\n",
    "        \"test\": test_path,\n",
    "        \"val\": valid_path,\n",
    "        \"nc\": nc,\n",
    "        \"names\": [f'{name}' for name in names]\n",
    "    }, stream=file, default_flow_style=None)"
   ]
  },
  {
   "cell_type": "code",
   "execution_count": 26,
   "metadata": {},
   "outputs": [
    {
     "name": "stdout",
     "output_type": "stream",
     "text": [
      "New https://pypi.org/project/ultralytics/8.3.12 available 😃 Update with 'pip install -U ultralytics'\n",
      "Ultralytics YOLOv8.2.95 🚀 Python-3.9.16 torch-2.4.1+cpu CPU (AMD Ryzen 5 4600H with Radeon Graphics)\n",
      "\u001b[34m\u001b[1mengine\\trainer: \u001b[0mtask=detect, mode=train, model=yolov8n.pt, data=../data.yaml, epochs=10, time=None, patience=100, batch=16, imgsz=800, save=True, save_period=-1, cache=False, device=None, workers=8, project=None, name=train2, exist_ok=False, pretrained=True, optimizer=auto, verbose=True, seed=0, deterministic=True, single_cls=False, rect=False, cos_lr=False, close_mosaic=10, resume=False, amp=True, fraction=1.0, profile=False, freeze=None, multi_scale=False, overlap_mask=True, mask_ratio=4, dropout=0.0, val=True, split=val, save_json=False, save_hybrid=False, conf=None, iou=0.7, max_det=300, half=False, dnn=False, plots=True, source=None, vid_stride=1, stream_buffer=False, visualize=False, augment=False, agnostic_nms=False, classes=None, retina_masks=False, embed=None, show=False, save_frames=False, save_txt=False, save_conf=False, save_crop=False, show_labels=True, show_conf=True, show_boxes=True, line_width=None, format=torchscript, keras=False, optimize=False, int8=False, dynamic=False, simplify=False, opset=None, workspace=4, nms=False, lr0=0.01, lrf=0.01, momentum=0.937, weight_decay=0.0005, warmup_epochs=3.0, warmup_momentum=0.8, warmup_bias_lr=0.1, box=7.5, cls=0.5, dfl=1.5, pose=12.0, kobj=1.0, label_smoothing=0.0, nbs=64, hsv_h=0.015, hsv_s=0.7, hsv_v=0.4, degrees=0.0, translate=0.1, scale=0.5, shear=0.0, perspective=0.0, flipud=0.0, fliplr=0.5, bgr=0.0, mosaic=1.0, mixup=0.0, copy_paste=0.0, auto_augment=randaugment, erasing=0.4, crop_fraction=1.0, cfg=None, tracker=botsort.yaml, save_dir=d:\\Github\\Project_GovID\\static\\runs\\detect\\train2\n",
      "Downloading https://ultralytics.com/assets/Arial.ttf to 'C:\\Users\\ASUS\\AppData\\Roaming\\Ultralytics\\Arial.ttf'...\n",
      "Overriding model.yaml nc=80 with nc=6\n",
      "\n",
      "                   from  n    params  module                                       arguments                     \n",
      "  0                  -1  1       464  ultralytics.nn.modules.conv.Conv             [3, 16, 3, 2]                 \n",
      "  1                  -1  1      4672  ultralytics.nn.modules.conv.Conv             [16, 32, 3, 2]                \n",
      "  2                  -1  1      7360  ultralytics.nn.modules.block.C2f             [32, 32, 1, True]             \n",
      "  3                  -1  1     18560  ultralytics.nn.modules.conv.Conv             [32, 64, 3, 2]                \n",
      "  4                  -1  2     49664  ultralytics.nn.modules.block.C2f             [64, 64, 2, True]             \n",
      "  5                  -1  1     73984  ultralytics.nn.modules.conv.Conv             [64, 128, 3, 2]               \n",
      "  6                  -1  2    197632  ultralytics.nn.modules.block.C2f             [128, 128, 2, True]           \n",
      "  7                  -1  1    295424  ultralytics.nn.modules.conv.Conv             [128, 256, 3, 2]              \n",
      "  8                  -1  1    460288  ultralytics.nn.modules.block.C2f             [256, 256, 1, True]           \n",
      "  9                  -1  1    164608  ultralytics.nn.modules.block.SPPF            [256, 256, 5]                 \n",
      " 10                  -1  1         0  torch.nn.modules.upsampling.Upsample         [None, 2, 'nearest']          \n",
      " 11             [-1, 6]  1         0  ultralytics.nn.modules.conv.Concat           [1]                           \n",
      " 12                  -1  1    148224  ultralytics.nn.modules.block.C2f             [384, 128, 1]                 \n",
      " 13                  -1  1         0  torch.nn.modules.upsampling.Upsample         [None, 2, 'nearest']          \n",
      " 14             [-1, 4]  1         0  ultralytics.nn.modules.conv.Concat           [1]                           \n",
      " 15                  -1  1     37248  ultralytics.nn.modules.block.C2f             [192, 64, 1]                  \n",
      " 16                  -1  1     36992  ultralytics.nn.modules.conv.Conv             [64, 64, 3, 2]                \n",
      " 17            [-1, 12]  1         0  ultralytics.nn.modules.conv.Concat           [1]                           \n",
      " 18                  -1  1    123648  ultralytics.nn.modules.block.C2f             [192, 128, 1]                 \n",
      " 19                  -1  1    147712  ultralytics.nn.modules.conv.Conv             [128, 128, 3, 2]              \n",
      " 20             [-1, 9]  1         0  ultralytics.nn.modules.conv.Concat           [1]                           \n",
      " 21                  -1  1    493056  ultralytics.nn.modules.block.C2f             [384, 256, 1]                 \n",
      " 22        [15, 18, 21]  1    752482  ultralytics.nn.modules.head.Detect           [6, [64, 128, 256]]           \n",
      "Model summary: 225 layers, 3,012,018 parameters, 3,012,002 gradients, 8.2 GFLOPs\n",
      "\n",
      "Transferred 319/355 items from pretrained weights\n",
      "Freezing layer 'model.22.dfl.conv.weight'\n",
      "\u001b[34m\u001b[1mtrain: \u001b[0mWARNING ⚠️ D:\\Github\\Project_GovID\\static\\aadhar\\train\\images\\25.png: ignoring corrupt image/label: cannot identify image file 'D:\\\\Github\\\\Project_GovID\\\\static\\\\aadhar\\\\train\\\\images\\\\25.png'\n",
      "\u001b[34m\u001b[1mtrain: \u001b[0mWARNING ⚠️ D:\\Github\\Project_GovID\\static\\aadhar\\train\\images\\26.png: ignoring corrupt image/label: cannot identify image file 'D:\\\\Github\\\\Project_GovID\\\\static\\\\aadhar\\\\train\\\\images\\\\26.png'\n",
      "\u001b[34m\u001b[1mtrain: \u001b[0mNew cache created: D:\\Github\\Project_GovID\\static\\aadhar\\train\\labels.cache\n",
      "\u001b[34m\u001b[1mval: \u001b[0mNew cache created: D:\\Github\\Project_GovID\\static\\aadhar\\valid\\labels.cache\n",
      "Plotting labels to d:\\Github\\Project_GovID\\static\\runs\\detect\\train2\\labels.jpg... \n",
      "\u001b[34m\u001b[1moptimizer:\u001b[0m 'optimizer=auto' found, ignoring 'lr0=0.01' and 'momentum=0.937' and determining best 'optimizer', 'lr0' and 'momentum' automatically... \n",
      "\u001b[34m\u001b[1moptimizer:\u001b[0m AdamW(lr=0.001, momentum=0.9) with parameter groups 57 weight(decay=0.0), 64 weight(decay=0.0005), 63 bias(decay=0.0)\n",
      "Image sizes 800 train, 800 val\n",
      "Using 0 dataloader workers\n",
      "Logging results to \u001b[1md:\\Github\\Project_GovID\\static\\runs\\detect\\train2\u001b[0m\n",
      "Starting training for 10 epochs...\n",
      "Closing dataloader mosaic\n",
      "\n",
      "      Epoch    GPU_mem   box_loss   cls_loss   dfl_loss  Instances       Size\n",
      "                   all          4         16          0          0          0          0\n",
      "\n",
      "      Epoch    GPU_mem   box_loss   cls_loss   dfl_loss  Instances       Size\n",
      "                   all          4         16          0          0          0          0\n",
      "\n",
      "      Epoch    GPU_mem   box_loss   cls_loss   dfl_loss  Instances       Size\n",
      "                   all          4         16          0          0          0          0\n",
      "\n",
      "      Epoch    GPU_mem   box_loss   cls_loss   dfl_loss  Instances       Size\n",
      "                   all          4         16    0.00108     0.0556    0.00251     0.0015\n",
      "\n",
      "      Epoch    GPU_mem   box_loss   cls_loss   dfl_loss  Instances       Size\n",
      "                   all          4         16      0.001     0.0556    0.00731    0.00512\n",
      "\n",
      "      Epoch    GPU_mem   box_loss   cls_loss   dfl_loss  Instances       Size\n",
      "                   all          4         16    0.00178      0.111      0.015     0.0101\n",
      "\n",
      "      Epoch    GPU_mem   box_loss   cls_loss   dfl_loss  Instances       Size\n",
      "                   all          4         16    0.00281      0.167     0.0272     0.0216\n",
      "\n",
      "      Epoch    GPU_mem   box_loss   cls_loss   dfl_loss  Instances       Size\n",
      "                   all          4         16    0.00269      0.167     0.0319     0.0269\n",
      "\n",
      "      Epoch    GPU_mem   box_loss   cls_loss   dfl_loss  Instances       Size\n",
      "                   all          4         16     0.0026      0.167     0.0473      0.036\n",
      "\n",
      "      Epoch    GPU_mem   box_loss   cls_loss   dfl_loss  Instances       Size\n",
      "                   all          4         16    0.00478      0.278     0.0536     0.0381\n",
      "\n",
      "10 epochs completed in 0.100 hours.\n",
      "Optimizer stripped from d:\\Github\\Project_GovID\\static\\runs\\detect\\train2\\weights\\last.pt, 6.3MB\n",
      "Optimizer stripped from d:\\Github\\Project_GovID\\static\\runs\\detect\\train2\\weights\\best.pt, 6.3MB\n",
      "\n",
      "Validating d:\\Github\\Project_GovID\\static\\runs\\detect\\train2\\weights\\best.pt...\n",
      "Ultralytics YOLOv8.2.95 🚀 Python-3.9.16 torch-2.4.1+cpu CPU (AMD Ryzen 5 4600H with Radeon Graphics)\n",
      "Model summary (fused): 168 layers, 3,006,818 parameters, 0 gradients, 8.1 GFLOPs\n",
      "                   all          4         16    0.00478      0.278     0.0536     0.0379\n",
      "            name_value          3          3    0.00613      0.333    0.00476    0.00143\n",
      "          gender_value          3          3          0          0          0          0\n",
      "               dob_key          3          3    0.00847      0.333     0.0063    0.00189\n",
      "             dob_value          3          3          0          0          0          0\n",
      "    adhar_number_value          3          3     0.0141          1       0.31      0.224\n",
      "              name_key          1          1          0          0          0          0\n",
      "Speed: 10.9ms preprocess, 322.8ms inference, 0.0ms loss, 30.9ms postprocess per image\n",
      "Results saved to \u001b[1md:\\Github\\Project_GovID\\static\\runs\\detect\\train2\u001b[0m\n",
      "💡 Learn more at https://docs.ultralytics.com/modes/train\n"
     ]
    },
    {
     "name": "stderr",
     "output_type": "stream",
     "text": [
      "\n",
      "  0%|          | 0.00/755k [00:00<?, ?B/s]\n",
      "100%|██████████| 755k/755k [00:00<00:00, 14.2MB/s]\n",
      "\n",
      "\u001b[34m\u001b[1mtrain: \u001b[0mScanning D:\\Github\\Project_GovID\\static\\aadhar\\train\\labels...:   0%|          | 0/25 [00:00<?, ?it/s]\n",
      "\u001b[34m\u001b[1mtrain: \u001b[0mScanning D:\\Github\\Project_GovID\\static\\aadhar\\train\\labels... 1 images, 0 backgrounds, 0 corrupt:   4%|▍         | 1/25 [00:00<00:08,  2.88it/s]\n",
      "\u001b[34m\u001b[1mtrain: \u001b[0mScanning D:\\Github\\Project_GovID\\static\\aadhar\\train\\labels... 4 images, 0 backgrounds, 0 corrupt:  16%|█▌        | 4/25 [00:00<00:04,  4.72it/s]\n",
      "\u001b[34m\u001b[1mtrain: \u001b[0mScanning D:\\Github\\Project_GovID\\static\\aadhar\\train\\labels... 23 images, 0 backgrounds, 2 corrupt: 100%|██████████| 25/25 [00:00<00:00, 27.91it/s]\n",
      "\n",
      "\u001b[34m\u001b[1mval: \u001b[0mScanning D:\\Github\\Project_GovID\\static\\aadhar\\valid\\labels...:   0%|          | 0/4 [00:00<?, ?it/s]\n",
      "\u001b[34m\u001b[1mval: \u001b[0mScanning D:\\Github\\Project_GovID\\static\\aadhar\\valid\\labels... 4 images, 1 backgrounds, 0 corrupt: 100%|██████████| 4/4 [00:00<00:00, 71.16it/s]\n",
      "\n",
      "  0%|          | 0/2 [00:00<?, ?it/s]\n",
      "       1/10         0G      3.522      5.366      2.462         88        800:   0%|          | 0/2 [00:38<?, ?it/s]\n",
      "       1/10         0G      3.522      5.366      2.462         88        800:  50%|█████     | 1/2 [00:42<00:42, 42.84s/it]\n",
      "       1/10         0G      3.445      5.463      2.396         36        800:  50%|█████     | 1/2 [00:51<00:42, 42.84s/it]\n",
      "       1/10         0G      3.445      5.463      2.396         36        800: 100%|██████████| 2/2 [00:51<00:00, 22.63s/it]\n",
      "       1/10         0G      3.445      5.463      2.396         36        800: 100%|██████████| 2/2 [00:51<00:00, 25.66s/it]\n",
      "\n",
      "                 Class     Images  Instances      Box(P          R      mAP50  mAP50-95):   0%|          | 0/1 [00:00<?, ?it/s]\n",
      "                 Class     Images  Instances      Box(P          R      mAP50  mAP50-95): 100%|██████████| 1/1 [00:04<00:00,  4.29s/it]\n",
      "                 Class     Images  Instances      Box(P          R      mAP50  mAP50-95): 100%|██████████| 1/1 [00:04<00:00,  4.29s/it]\n",
      "\n",
      "  0%|          | 0/2 [00:00<?, ?it/s]\n",
      "       2/10         0G      3.437      5.281      2.426         87        800:   0%|          | 0/2 [00:20<?, ?it/s]\n",
      "       2/10         0G      3.437      5.281      2.426         87        800:  50%|█████     | 1/2 [00:24<00:24, 24.56s/it]\n",
      "       2/10         0G       3.53      5.394      2.576         37        800:  50%|█████     | 1/2 [00:32<00:24, 24.56s/it]\n",
      "       2/10         0G       3.53      5.394      2.576         37        800: 100%|██████████| 2/2 [00:32<00:00, 14.75s/it]\n",
      "       2/10         0G       3.53      5.394      2.576         37        800: 100%|██████████| 2/2 [00:32<00:00, 16.22s/it]\n",
      "\n",
      "                 Class     Images  Instances      Box(P          R      mAP50  mAP50-95):   0%|          | 0/1 [00:00<?, ?it/s]\n",
      "                 Class     Images  Instances      Box(P          R      mAP50  mAP50-95): 100%|██████████| 1/1 [00:01<00:00,  1.69s/it]\n",
      "                 Class     Images  Instances      Box(P          R      mAP50  mAP50-95): 100%|██████████| 1/1 [00:01<00:00,  1.69s/it]\n",
      "\n",
      "  0%|          | 0/2 [00:00<?, ?it/s]\n",
      "       3/10         0G      3.122      5.143      2.226         82        800:   0%|          | 0/2 [00:20<?, ?it/s]\n",
      "       3/10         0G      3.122      5.143      2.226         82        800:  50%|█████     | 1/2 [00:20<00:20, 20.96s/it]\n",
      "       3/10         0G      3.159      5.172      2.221         40        800:  50%|█████     | 1/2 [00:27<00:20, 20.96s/it]\n",
      "       3/10         0G      3.159      5.172      2.221         40        800: 100%|██████████| 2/2 [00:27<00:00, 12.57s/it]\n",
      "       3/10         0G      3.159      5.172      2.221         40        800: 100%|██████████| 2/2 [00:27<00:00, 13.84s/it]\n",
      "\n",
      "                 Class     Images  Instances      Box(P          R      mAP50  mAP50-95):   0%|          | 0/1 [00:00<?, ?it/s]\n",
      "                 Class     Images  Instances      Box(P          R      mAP50  mAP50-95): 100%|██████████| 1/1 [00:01<00:00,  1.84s/it]\n",
      "                 Class     Images  Instances      Box(P          R      mAP50  mAP50-95): 100%|██████████| 1/1 [00:01<00:00,  1.84s/it]\n",
      "\n",
      "  0%|          | 0/2 [00:00<?, ?it/s]\n",
      "       4/10         0G      2.769      4.902       2.01         86        800:   0%|          | 0/2 [00:19<?, ?it/s]\n",
      "       4/10         0G      2.769      4.902       2.01         86        800:  50%|█████     | 1/2 [00:19<00:19, 19.58s/it]\n",
      "       4/10         0G      2.862      4.876      2.024         38        800:  50%|█████     | 1/2 [00:25<00:19, 19.58s/it]\n",
      "       4/10         0G      2.862      4.876      2.024         38        800: 100%|██████████| 2/2 [00:25<00:00, 11.74s/it]\n",
      "       4/10         0G      2.862      4.876      2.024         38        800: 100%|██████████| 2/2 [00:25<00:00, 12.92s/it]\n",
      "\n",
      "                 Class     Images  Instances      Box(P          R      mAP50  mAP50-95):   0%|          | 0/1 [00:00<?, ?it/s]\n",
      "                 Class     Images  Instances      Box(P          R      mAP50  mAP50-95): 100%|██████████| 1/1 [00:02<00:00,  2.87s/it]\n",
      "                 Class     Images  Instances      Box(P          R      mAP50  mAP50-95): 100%|██████████| 1/1 [00:02<00:00,  2.87s/it]\n",
      "\n",
      "  0%|          | 0/2 [00:00<?, ?it/s]\n",
      "       5/10         0G      2.473      4.867      1.764         84        800:   0%|          | 0/2 [00:17<?, ?it/s]\n",
      "       5/10         0G      2.473      4.867      1.764         84        800:  50%|█████     | 1/2 [00:17<00:17, 17.94s/it]\n",
      "       5/10         0G      2.384      4.696       1.77         39        800:  50%|█████     | 1/2 [00:24<00:17, 17.94s/it]\n",
      "       5/10         0G      2.384      4.696       1.77         39        800: 100%|██████████| 2/2 [00:24<00:00, 11.51s/it]\n",
      "       5/10         0G      2.384      4.696       1.77         39        800: 100%|██████████| 2/2 [00:24<00:00, 12.47s/it]\n",
      "\n",
      "                 Class     Images  Instances      Box(P          R      mAP50  mAP50-95):   0%|          | 0/1 [00:00<?, ?it/s]\n",
      "                 Class     Images  Instances      Box(P          R      mAP50  mAP50-95): 100%|██████████| 1/1 [00:02<00:00,  2.58s/it]\n",
      "                 Class     Images  Instances      Box(P          R      mAP50  mAP50-95): 100%|██████████| 1/1 [00:02<00:00,  2.58s/it]\n",
      "\n",
      "  0%|          | 0/2 [00:00<?, ?it/s]\n",
      "       6/10         0G      2.255      4.617      1.781         86        800:   0%|          | 0/2 [00:18<?, ?it/s]\n",
      "       6/10         0G      2.255      4.617      1.781         86        800:  50%|█████     | 1/2 [00:18<00:18, 18.45s/it]\n",
      "       6/10         0G      2.192      4.515      1.712         35        800:  50%|█████     | 1/2 [00:24<00:18, 18.45s/it]\n",
      "       6/10         0G      2.192      4.515      1.712         35        800: 100%|██████████| 2/2 [00:24<00:00, 11.24s/it]\n",
      "       6/10         0G      2.192      4.515      1.712         35        800: 100%|██████████| 2/2 [00:24<00:00, 12.32s/it]\n",
      "\n",
      "                 Class     Images  Instances      Box(P          R      mAP50  mAP50-95):   0%|          | 0/1 [00:00<?, ?it/s]\n",
      "                 Class     Images  Instances      Box(P          R      mAP50  mAP50-95): 100%|██████████| 1/1 [00:03<00:00,  3.14s/it]\n",
      "                 Class     Images  Instances      Box(P          R      mAP50  mAP50-95): 100%|██████████| 1/1 [00:03<00:00,  3.14s/it]\n",
      "\n",
      "  0%|          | 0/2 [00:00<?, ?it/s]\n",
      "       7/10         0G      1.875      4.386      1.518         85        800:   0%|          | 0/2 [00:18<?, ?it/s]\n",
      "       7/10         0G      1.875      4.386      1.518         85        800:  50%|█████     | 1/2 [00:18<00:18, 18.44s/it]\n",
      "       7/10         0G      1.969      4.363      1.565         39        800:  50%|█████     | 1/2 [00:25<00:18, 18.44s/it]\n",
      "       7/10         0G      1.969      4.363      1.565         39        800: 100%|██████████| 2/2 [00:25<00:00, 11.73s/it]\n",
      "       7/10         0G      1.969      4.363      1.565         39        800: 100%|██████████| 2/2 [00:25<00:00, 12.74s/it]\n",
      "\n",
      "                 Class     Images  Instances      Box(P          R      mAP50  mAP50-95):   0%|          | 0/1 [00:00<?, ?it/s]\n",
      "                 Class     Images  Instances      Box(P          R      mAP50  mAP50-95): 100%|██████████| 1/1 [00:02<00:00,  2.49s/it]\n",
      "                 Class     Images  Instances      Box(P          R      mAP50  mAP50-95): 100%|██████████| 1/1 [00:02<00:00,  2.49s/it]\n",
      "\n",
      "  0%|          | 0/2 [00:00<?, ?it/s]\n",
      "       8/10         0G      1.847      4.308      1.467         82        800:   0%|          | 0/2 [00:19<?, ?it/s]\n",
      "       8/10         0G      1.847      4.308      1.467         82        800:  50%|█████     | 1/2 [00:19<00:19, 19.54s/it]\n",
      "       8/10         0G      1.771      4.203      1.466         42        800:  50%|█████     | 1/2 [00:26<00:19, 19.54s/it]\n",
      "       8/10         0G      1.771      4.203      1.466         42        800: 100%|██████████| 2/2 [00:26<00:00, 11.98s/it]\n",
      "       8/10         0G      1.771      4.203      1.466         42        800: 100%|██████████| 2/2 [00:26<00:00, 13.11s/it]\n",
      "\n",
      "                 Class     Images  Instances      Box(P          R      mAP50  mAP50-95):   0%|          | 0/1 [00:00<?, ?it/s]\n",
      "                 Class     Images  Instances      Box(P          R      mAP50  mAP50-95): 100%|██████████| 1/1 [00:01<00:00,  1.53s/it]\n",
      "                 Class     Images  Instances      Box(P          R      mAP50  mAP50-95): 100%|██████████| 1/1 [00:01<00:00,  1.53s/it]\n",
      "\n",
      "  0%|          | 0/2 [00:00<?, ?it/s]\n",
      "       9/10         0G      1.719       4.22      1.435         86        800:   0%|          | 0/2 [00:17<?, ?it/s]\n",
      "       9/10         0G      1.719       4.22      1.435         86        800:  50%|█████     | 1/2 [00:17<00:17, 17.01s/it]\n",
      "       9/10         0G      1.669      4.174      1.411         37        800:  50%|█████     | 1/2 [00:23<00:17, 17.01s/it]\n",
      "       9/10         0G      1.669      4.174      1.411         37        800: 100%|██████████| 2/2 [00:23<00:00, 10.98s/it]\n",
      "       9/10         0G      1.669      4.174      1.411         37        800: 100%|██████████| 2/2 [00:23<00:00, 11.89s/it]\n",
      "\n",
      "                 Class     Images  Instances      Box(P          R      mAP50  mAP50-95):   0%|          | 0/1 [00:00<?, ?it/s]\n",
      "                 Class     Images  Instances      Box(P          R      mAP50  mAP50-95): 100%|██████████| 1/1 [00:01<00:00,  1.57s/it]\n",
      "                 Class     Images  Instances      Box(P          R      mAP50  mAP50-95): 100%|██████████| 1/1 [00:01<00:00,  1.57s/it]\n",
      "\n",
      "  0%|          | 0/2 [00:00<?, ?it/s]\n",
      "      10/10         0G      1.787       4.28      1.444         84        800:   0%|          | 0/2 [00:26<?, ?it/s]\n",
      "      10/10         0G      1.787       4.28      1.444         84        800:  50%|█████     | 1/2 [00:26<00:26, 26.73s/it]\n",
      "      10/10         0G      1.701      4.039      1.422         37        800:  50%|█████     | 1/2 [00:33<00:26, 26.73s/it]\n",
      "      10/10         0G      1.701      4.039      1.422         37        800: 100%|██████████| 2/2 [00:33<00:00, 15.21s/it]\n",
      "      10/10         0G      1.701      4.039      1.422         37        800: 100%|██████████| 2/2 [00:33<00:00, 16.94s/it]\n",
      "\n",
      "                 Class     Images  Instances      Box(P          R      mAP50  mAP50-95):   0%|          | 0/1 [00:00<?, ?it/s]\n",
      "                 Class     Images  Instances      Box(P          R      mAP50  mAP50-95): 100%|██████████| 1/1 [00:01<00:00,  1.98s/it]\n",
      "                 Class     Images  Instances      Box(P          R      mAP50  mAP50-95): 100%|██████████| 1/1 [00:01<00:00,  1.98s/it]\n",
      "\n",
      "                 Class     Images  Instances      Box(P          R      mAP50  mAP50-95):   0%|          | 0/1 [00:00<?, ?it/s]\n",
      "                 Class     Images  Instances      Box(P          R      mAP50  mAP50-95): 100%|██████████| 1/1 [00:01<00:00,  1.67s/it]\n",
      "                 Class     Images  Instances      Box(P          R      mAP50  mAP50-95): 100%|██████████| 1/1 [00:01<00:00,  1.67s/it]\n"
     ]
    }
   ],
   "source": [
    "\n",
    "!yolo task=detect mode=train model=yolov8n.pt data=\"../data.yaml\" epochs=10 imgsz=800 plots=True"
   ]
  },
  {
   "cell_type": "code",
   "execution_count": 27,
   "metadata": {},
   "outputs": [],
   "source": [
    "from ultralytics import YOLO"
   ]
  },
  {
   "cell_type": "code",
   "execution_count": 29,
   "metadata": {},
   "outputs": [],
   "source": [
    "model = YOLO(\"D:/Github/Project_GovID/static/runs/detect/train2/weights/best.pt\")"
   ]
  },
  {
   "cell_type": "code",
   "execution_count": 30,
   "metadata": {},
   "outputs": [
    {
     "name": "stdout",
     "output_type": "stream",
     "text": [
      "\n",
      "0: 800x800 (no detections), 443.1ms\n",
      "1: 800x800 (no detections), 443.1ms\n",
      "Speed: 139.3ms preprocess, 443.1ms inference, 2.2ms postprocess per image at shape (1, 3, 800, 800)\n"
     ]
    }
   ],
   "source": [
    "# Run batched inference on a list of images\n",
    "results = model([\"D:/Github/Project_GovID/static/aadhar/test/images/2.png\", \"D:/Github/Project_GovID/static/aadhar/test/images/6.png\"])  # return a list of Results objects\n",
    "\n",
    "# Process results list\n",
    "for result in results:\n",
    "    boxes = result.boxes  # Boxes object for bounding box outputs\n",
    "    masks = result.masks  # Masks object for segmentation masks outputs\n",
    "    keypoints = result.keypoints  # Keypoints object for pose outputs\n",
    "    probs = result.probs  # Probs object for classification outputs\n",
    "    obb = result.obb  # Oriented boxes object for OBB outputs\n",
    "    result.show()  # display to screen\n",
    "    result.save(filename=\"result.jpg\")  # save to disk"
   ]
  },
  {
   "cell_type": "code",
   "execution_count": null,
   "metadata": {},
   "outputs": [],
   "source": []
  }
 ],
 "metadata": {
  "kernelspec": {
   "display_name": ".venv",
   "language": "python",
   "name": "python3"
  },
  "language_info": {
   "codemirror_mode": {
    "name": "ipython",
    "version": 3
   },
   "file_extension": ".py",
   "mimetype": "text/x-python",
   "name": "python",
   "nbconvert_exporter": "python",
   "pygments_lexer": "ipython3",
   "version": "3.9.16"
  }
 },
 "nbformat": 4,
 "nbformat_minor": 2
}
